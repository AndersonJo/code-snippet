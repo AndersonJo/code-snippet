{
 "cells": [
  {
   "cell_type": "code",
   "execution_count": 6,
   "metadata": {},
   "outputs": [
    {
     "name": "stdout",
     "output_type": "stream",
     "text": [
      "Populating the interactive namespace from numpy and matplotlib\n"
     ]
    }
   ],
   "source": [
    "%pylab inline\n",
    "import geohash\n",
    "import folium\n",
    "\n",
    "from geopy.distance import distance\n",
    "from polygon_geohasher.polygon_geohasher import geohash_to_polygon"
   ]
  },
  {
   "cell_type": "markdown",
   "metadata": {},
   "source": [
    "# Addition"
   ]
  },
  {
   "cell_type": "code",
   "execution_count": 121,
   "metadata": {},
   "outputs": [
    {
     "name": "stdout",
     "output_type": "stream",
     "text": [
      "500m addition\n",
      "Latitude  Addition: 500.00005283004964\n",
      "Longitude Addition: 500.0049490970048\n",
      "Both      Addition: 707.0996972853251\n",
      "1000m addition\n",
      "Latitude  Addition: 1000.0004879418325\n",
      "Longitude Addition: 1000.0098977428217\n",
      "Both      Addition: 1414.178421176091\n",
      "\n",
      "5000m addition\n",
      "Latitude  Addition: 5000.017733038395\n",
      "Longitude Addition: 5000.049416527164\n",
      "Both      Addition: 7070.052813071016\n",
      "\n",
      "10000m addition\n",
      "Latitude  Addition: 10000.073709301136\n",
      "Longitude Addition: 10000.098381885806\n",
      "Both      Addition: 14138.005608237756\n",
      "\n",
      "50000m addition\n",
      "Latitude  Addition: 50001.900230356274\n",
      "Longitude Addition: 50000.41972205647\n",
      "Both      Addition: 70605.6694353784\n",
      "\n"
     ]
    },
    {
     "data": {
      "text/html": [
       "<div style=\"width:100%;\"><div style=\"position:relative;width:100%;height:0;padding-bottom:60%;\"><iframe src=\"data:text/html;charset=utf-8;base64,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\" style=\"position:absolute;width:100%;height:100%;left:0;top:0;border:none !important;\" allowfullscreen webkitallowfullscreen mozallowfullscreen></iframe></div></div>"
      ],
      "text/plain": [
       "<folium.folium.Map at 0x7f4ae7e22c50>"
      ]
     },
     "execution_count": 121,
     "metadata": {},
     "output_type": "execute_result"
    }
   ],
   "source": [
    "def location_addition(lat, lng, meter):\n",
    "    new_lat = lat + (meter/1000/6359.0899) * (180/np.pi)\n",
    "    new_lng = lng + (meter/1000/6386) * (180/np.pi) / np.cos(lat * np.pi/180)\n",
    "    return new_lat, new_lng\n",
    "\n",
    "m = folium.Map(location=(lat, lng), zoom_start=12)\n",
    "lat, lng = 37.499402, 127.054207\n",
    "\n",
    "folium.Marker((lat, lng), popup='<b>A</b>').add_to(m)\n",
    "new_lat, new_lng = location_addition(lat, lng, 500)\n",
    "folium.Marker((new_lat, new_lng), popup='<b>500m</b>').add_to(m)\n",
    "\n",
    "print('500m addition')\n",
    "print('Latitude  Addition:', distance((lat, lng), (new_lat, lng)).m)\n",
    "print('Longitude Addition:', distance((lat, lng), (lat, new_lng)).m)\n",
    "print('Both      Addition:', distance((lat, lng), (new_lat, new_lng)).m)\n",
    "\n",
    "new_lat, new_lng = location_addition(lat, lng, 1000)\n",
    "folium.Marker((new_lat, new_lng), popup='<b>500m</b>').add_to(m)\n",
    "print('1000m addition')\n",
    "print('Latitude  Addition:', distance((lat, lng), (new_lat, lng)).m)\n",
    "print('Longitude Addition:', distance((lat, lng), (lat, new_lng)).m)\n",
    "print('Both      Addition:', distance((lat, lng), (new_lat, new_lng)).m)\n",
    "print()\n",
    "\n",
    "new_lat, new_lng = location_addition(lat, lng, 5000)\n",
    "folium.Marker((new_lat, new_lng), popup='<b>500m</b>').add_to(m)\n",
    "print('5000m addition')\n",
    "print('Latitude  Addition:', distance((lat, lng), (new_lat, lng)).m)\n",
    "print('Longitude Addition:', distance((lat, lng), (lat, new_lng)).m)\n",
    "print('Both      Addition:', distance((lat, lng), (new_lat, new_lng)).m)\n",
    "print()\n",
    "\n",
    "new_lat, new_lng = location_addition(lat, lng, 10000)\n",
    "folium.Marker((new_lat, new_lng), popup='<b>500m</b>').add_to(m)\n",
    "print('10000m addition')\n",
    "print('Latitude  Addition:', distance((lat, lng), (new_lat, lng)).m)\n",
    "print('Longitude Addition:', distance((lat, lng), (lat, new_lng)).m)\n",
    "print('Both      Addition:', distance((lat, lng), (new_lat, new_lng)).m)\n",
    "print()\n",
    "\n",
    "\n",
    "new_lat, new_lng = location_addition(lat, lng, 50000)\n",
    "folium.Marker((new_lat, new_lng), popup='<b>500m</b>').add_to(m)\n",
    "print('50000m addition')\n",
    "print('Latitude  Addition:', distance((lat, lng), (new_lat, lng)).m)\n",
    "print('Longitude Addition:', distance((lat, lng), (lat, new_lng)).m)\n",
    "print('Both      Addition:', distance((lat, lng), (new_lat, new_lng)).m)\n",
    "print()\n",
    "\n",
    "# Visualization\n",
    "m"
   ]
  }
 ],
 "metadata": {
  "kernelspec": {
   "display_name": "Python 3",
   "language": "python",
   "name": "python3"
  },
  "language_info": {
   "codemirror_mode": {
    "name": "ipython",
    "version": 3
   },
   "file_extension": ".py",
   "mimetype": "text/x-python",
   "name": "python",
   "nbconvert_exporter": "python",
   "pygments_lexer": "ipython3",
   "version": "3.6.7"
  },
  "toc": {
   "base_numbering": 1,
   "nav_menu": {},
   "number_sections": true,
   "sideBar": true,
   "skip_h1_title": false,
   "title_cell": "Table of Contents",
   "title_sidebar": "Contents",
   "toc_cell": false,
   "toc_position": {},
   "toc_section_display": true,
   "toc_window_display": false
  }
 },
 "nbformat": 4,
 "nbformat_minor": 2
}
