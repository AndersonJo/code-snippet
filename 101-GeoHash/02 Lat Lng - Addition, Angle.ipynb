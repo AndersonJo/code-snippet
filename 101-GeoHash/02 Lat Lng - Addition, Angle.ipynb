{
 "cells": [
  {
   "cell_type": "code",
   "execution_count": 2,
   "metadata": {},
   "outputs": [
    {
     "name": "stdout",
     "output_type": "stream",
     "text": [
      "Populating the interactive namespace from numpy and matplotlib\n"
     ]
    }
   ],
   "source": [
    "%pylab inline\n",
    "import geohash\n",
    "import folium\n",
    "\n",
    "from geopy.distance import distance\n",
    "from polygon_geohasher.polygon_geohasher import geohash_to_polygon"
   ]
  },
  {
   "cell_type": "markdown",
   "metadata": {},
   "source": [
    "# Addition"
   ]
  },
  {
   "cell_type": "code",
   "execution_count": 373,
   "metadata": {},
   "outputs": [
    {
     "name": "stdout",
     "output_type": "stream",
     "text": [
      "500m addition\n",
      "Latitude  Addition: 500.00005283004964\n",
      "Longitude Addition: 500.0049490970048\n",
      "Both      Addition: 707.0996972853251\n",
      "1000m addition\n",
      "Latitude  Addition: 1000.0004879418325\n",
      "Longitude Addition: 1000.0098977428217\n",
      "Both      Addition: 1414.178421176091\n",
      "\n",
      "5000m addition\n",
      "Latitude  Addition: 5000.017733038395\n",
      "Longitude Addition: 5000.049416527164\n",
      "Both      Addition: 7070.052813071016\n",
      "\n",
      "10000m addition\n",
      "Latitude  Addition: 10000.073709301136\n",
      "Longitude Addition: 10000.098381885806\n",
      "Both      Addition: 14138.005608237756\n",
      "\n",
      "50000m addition\n",
      "Latitude  Addition: 50001.900230356274\n",
      "Longitude Addition: 50000.41972205647\n",
      "Both      Addition: 70605.6694353784\n",
      "\n"
     ]
    },
    {
     "data": {
      "text/html": [
       "<div style=\"width:100%;\"><div style=\"position:relative;width:100%;height:0;padding-bottom:60%;\"><iframe src=\"data:text/html;charset=utf-8;base64,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\" style=\"position:absolute;width:100%;height:100%;left:0;top:0;border:none !important;\" allowfullscreen webkitallowfullscreen mozallowfullscreen></iframe></div></div>"
      ],
      "text/plain": [
       "<folium.folium.Map at 0x7f4ad139f828>"
      ]
     },
     "execution_count": 373,
     "metadata": {},
     "output_type": "execute_result"
    }
   ],
   "source": [
    "def add_meter(lat, lng, lat_meter, lng_meter):\n",
    "    new_lat = lat + (lat_meter/1000/6359.0899) * (180/np.pi)\n",
    "    new_lng = lng + (lng_meter/1000/6386) * (180/np.pi) / np.cos(lat * np.pi/180)\n",
    "    return new_lat, new_lng\n",
    "\n",
    "m = folium.Map(location=(lat, lng), zoom_start=12)\n",
    "lat, lng = 37.499402, 127.054207\n",
    "\n",
    "folium.Marker((lat, lng), popup='<b>A</b>').add_to(m)\n",
    "new_lat, new_lng = add_meter(lat, lng, 500, 500)\n",
    "folium.Marker((new_lat, new_lng), popup='<b>500m</b>').add_to(m)\n",
    "\n",
    "print('500m addition')\n",
    "print('Latitude  Addition:', distance((lat, lng), (new_lat, lng)).m)\n",
    "print('Longitude Addition:', distance((lat, lng), (lat, new_lng)).m)\n",
    "print('Both      Addition:', distance((lat, lng), (new_lat, new_lng)).m)\n",
    "\n",
    "new_lat, new_lng = add_meter(lat, lng, 1000, 1000)\n",
    "folium.Marker((new_lat, new_lng), popup='<b>500m</b>').add_to(m)\n",
    "print('1000m addition')\n",
    "print('Latitude  Addition:', distance((lat, lng), (new_lat, lng)).m)\n",
    "print('Longitude Addition:', distance((lat, lng), (lat, new_lng)).m)\n",
    "print('Both      Addition:', distance((lat, lng), (new_lat, new_lng)).m)\n",
    "print()\n",
    "\n",
    "new_lat, new_lng = add_meter(lat, lng, 5000, 5000)\n",
    "folium.Marker((new_lat, new_lng), popup='<b>500m</b>').add_to(m)\n",
    "print('5000m addition')\n",
    "print('Latitude  Addition:', distance((lat, lng), (new_lat, lng)).m)\n",
    "print('Longitude Addition:', distance((lat, lng), (lat, new_lng)).m)\n",
    "print('Both      Addition:', distance((lat, lng), (new_lat, new_lng)).m)\n",
    "print()\n",
    "\n",
    "new_lat, new_lng = add_meter(lat, lng, 10000, 10000)\n",
    "folium.Marker((new_lat, new_lng), popup='<b>500m</b>').add_to(m)\n",
    "print('10000m addition')\n",
    "print('Latitude  Addition:', distance((lat, lng), (new_lat, lng)).m)\n",
    "print('Longitude Addition:', distance((lat, lng), (lat, new_lng)).m)\n",
    "print('Both      Addition:', distance((lat, lng), (new_lat, new_lng)).m)\n",
    "print()\n",
    "\n",
    "\n",
    "new_lat, new_lng = add_meter(lat, lng, 50000, 50000)\n",
    "folium.Marker((new_lat, new_lng), popup='<b>500m</b>').add_to(m)\n",
    "print('50000m addition')\n",
    "print('Latitude  Addition:', distance((lat, lng), (new_lat, lng)).m)\n",
    "print('Longitude Addition:', distance((lat, lng), (lat, new_lng)).m)\n",
    "print('Both      Addition:', distance((lat, lng), (new_lat, new_lng)).m)\n",
    "print()\n",
    "\n",
    "# Visualization\n",
    "m"
   ]
  },
  {
   "cell_type": "markdown",
   "metadata": {},
   "source": [
    "# 3지점간의 각도 계산\n",
    "\n",
    "https://medium.com/@manivannan_data/find-the-angle-between-three-points-from-2d-using-python-348c513e2cd\n",
    "\n"
   ]
  },
  {
   "cell_type": "code",
   "execution_count": 417,
   "metadata": {},
   "outputs": [
    {
     "name": "stdout",
     "output_type": "stream",
     "text": [
      "Angle: 90.0\n"
     ]
    }
   ],
   "source": [
    "def calculate_angle(cur_location: np.ndarray, p1: np.ndarray, p2: np.ndarray) -> float:\n",
    "    \"\"\"\n",
    "    :param cur_location: the current location of the latitude and the longitude.\n",
    "    :param p1: (latitude, longitude)\n",
    "    :param p2: (latitude, longitude)\n",
    "    :return: float\n",
    "    \"\"\"\n",
    "    ab = cur_location - p1\n",
    "    ac = cur_location - p2\n",
    "    \n",
    "    _direction = (np.dot(ab, ac) )  / (np.linalg.norm(ab) * np.linalg.norm(ac))\n",
    "    _direction = min(max(_direction, -1), 1)\n",
    "    angle = np.arccos(_direction)\n",
    "    angle = np.degrees(angle)\n",
    "    angle = np.nan_to_num(angle)\n",
    "    return round(float(angle), 4)\n",
    "    \n",
    "a = np.array([0, 0])\n",
    "b = np.array([5, 0])\n",
    "c = np.array([0, 5])\n",
    "\n",
    "print('Angle:', calculate_angle(a, b, c))"
   ]
  },
  {
   "cell_type": "code",
   "execution_count": 416,
   "metadata": {},
   "outputs": [
    {
     "name": "stdout",
     "output_type": "stream",
     "text": [
      "Angle: 28.53\n"
     ]
    },
    {
     "data": {
      "text/html": [
       "<div style=\"width:100%;\"><div style=\"position:relative;width:100%;height:0;padding-bottom:60%;\"><iframe src=\"data:text/html;charset=utf-8;base64,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\" style=\"position:absolute;width:100%;height:100%;left:0;top:0;border:none !important;\" allowfullscreen webkitallowfullscreen mozallowfullscreen></iframe></div></div>"
      ],
      "text/plain": [
       "<folium.folium.Map at 0x7f4aab8a9390>"
      ]
     },
     "execution_count": 416,
     "metadata": {},
     "output_type": "execute_result"
    }
   ],
   "source": [
    "a = np.array([37.388641, 127.092138]) # Current location\n",
    "b = np.array([37.393937, 127.112294])\n",
    "c = np.array([37.381100, 127.122811])\n",
    "\n",
    "angle = calculate_angle(a, b, c)\n",
    "\n",
    "print('Angle:', round(angle, 2))\n",
    "\n",
    "m = folium.Map(location=(a+b+c)/3, zoom_start=13)\n",
    "folium.Marker(a, popup='<b>A Current Location</b>', icon=folium.Icon(color='black')).add_to(m)\n",
    "folium.Marker(b, popup='<b>B Favorite Off Location</b>', icon=folium.Icon(color='green')).add_to(m)\n",
    "folium.Marker(c, popup=f'<b>C Call {int(angle)} degree</b>', icon=folium.Icon(color='red')).add_to(m)\n",
    "folium.PolyLine([a, b], color='green').add_to(m)\n",
    "folium.PolyLine([a, c], color='red').add_to(m)\n",
    "m"
   ]
  },
  {
   "cell_type": "markdown",
   "metadata": {},
   "source": [
    "# Circle"
   ]
  },
  {
   "cell_type": "code",
   "execution_count": 5,
   "metadata": {},
   "outputs": [
    {
     "name": "stdout",
     "output_type": "stream",
     "text": [
      "distance in km: 17.393393505034894\n"
     ]
    },
    {
     "data": {
      "text/html": [
       "<div style=\"width:100%;\"><div style=\"position:relative;width:100%;height:0;padding-bottom:60%;\"><iframe src=\"data:text/html;charset=utf-8;base64,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\" style=\"position:absolute;width:100%;height:100%;left:0;top:0;border:none !important;\" allowfullscreen webkitallowfullscreen mozallowfullscreen></iframe></div></div>"
      ],
      "text/plain": [
       "<folium.folium.Map at 0x7ff2a06e55c0>"
      ]
     },
     "execution_count": 5,
     "metadata": {},
     "output_type": "execute_result"
    }
   ],
   "source": [
    "a = np.array([37.388641, 127.092138])\n",
    "b = np.array([37.498641, 126.952138])\n",
    "\n",
    "print('distance in km:', distance(a, b).km)\n",
    "\n",
    "m = folium.Map(location=(a+b)/2, zoom_start=11)\n",
    "folium.Marker(a, popup='A', icon=folium.Icon(color='black')).add_to(m)\n",
    "folium.Marker(b, popup='B', icon=folium.Icon(color='green')).add_to(m)\n",
    "folium.Circle((a+b)/2, 10000, tooltip='test').add_to(m)\n",
    "folium.Circle((a+b)/2, 5000, tooltip='test').add_to(m)\n",
    "m"
   ]
  }
 ],
 "metadata": {
  "kernelspec": {
   "display_name": "Python 3",
   "language": "python",
   "name": "python3"
  },
  "language_info": {
   "codemirror_mode": {
    "name": "ipython",
    "version": 3
   },
   "file_extension": ".py",
   "mimetype": "text/x-python",
   "name": "python",
   "nbconvert_exporter": "python",
   "pygments_lexer": "ipython3",
   "version": "3.6.7"
  },
  "toc": {
   "base_numbering": 1,
   "nav_menu": {},
   "number_sections": true,
   "sideBar": true,
   "skip_h1_title": false,
   "title_cell": "Table of Contents",
   "title_sidebar": "Contents",
   "toc_cell": false,
   "toc_position": {},
   "toc_section_display": true,
   "toc_window_display": false
  }
 },
 "nbformat": 4,
 "nbformat_minor": 2
}
