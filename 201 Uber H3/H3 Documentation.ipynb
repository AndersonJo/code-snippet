{
 "cells": [
  {
   "cell_type": "markdown",
   "metadata": {},
   "source": [
    "# Table of Cell Areas for H3 Resolutions\n",
    "\n",
    "| H3 | Average Hexagon Area (km2) | Average Hexagon Edge Length (km) | Number of unique indexes |\n",
    "|:---|:---------------------------|:---------------------------------|:---------------------------|\n",
    "| 0 | 4,250,546.8477000 | 1,107.712591000 | 122\n",
    "| 1\t| 607,220.9782429 | 418.676005500 | 842\n",
    "| 2\t| 86,745.8540347 | 158.244655800 | 5,882\n",
    "| 3\t| 12,392.2648621 | 59.810857940 | 41,162\n",
    "| 4\t| 1,770.3235517 | 22.606379400 | 288,122\n",
    "| 5\t| 252.9033645 | 8.544408276 | 2,016,842\n",
    "| 6\t| 36.1290521 | 3.229482772 | 14,117,882\n",
    "| 7\t| 5.1612932 | 1.220629759 | 98,825,162\n",
    "| 8\t| 0.7373276 | 0.461354684 | 691,776,122\n",
    "| 9\t| 0.1053325 | 0.174375668 | 4,842,432,842\n",
    "| 10 | 0.0150475 | 0.065907807 | 33,897,029,882\n",
    "| 11 | 0.0021496 | 0.024910561 | 237,279,209,162\n",
    "| 12 | 0.0003071 | 0.009415526 | 1,660,954,464,122\n",
    "| 13 | 0.0000439 | 0.003559893 | 11,626,681,248,842\n",
    "| 14 | 0.0000063 | 0.001348575 | 81,386,768,741,882\n",
    "| 15 | 0.0000009 | 0.000509713 | 569,707,381,193,162"
   ]
  },
  {
   "cell_type": "markdown",
   "metadata": {},
   "source": [
    "# Installing"
   ]
  },
  {
   "cell_type": "code",
   "execution_count": 80,
   "metadata": {},
   "outputs": [
    {
     "name": "stdout",
     "output_type": "stream",
     "text": [
      "Requirement already satisfied: h3 in /usr/local/lib/python3.6/site-packages (3.4.1)\r\n"
     ]
    }
   ],
   "source": [
    "!pip install h3"
   ]
  },
  {
   "cell_type": "markdown",
   "metadata": {},
   "source": [
    "# H3 Tutorial"
   ]
  },
  {
   "cell_type": "code",
   "execution_count": 201,
   "metadata": {},
   "outputs": [
    {
     "name": "stdout",
     "output_type": "stream",
     "text": [
      "Populating the interactive namespace from numpy and matplotlib\n"
     ]
    },
    {
     "name": "stderr",
     "output_type": "stream",
     "text": [
      "/usr/local/lib/python3.6/site-packages/IPython/core/magics/pylab.py:160: UserWarning: pylab import has clobbered these variables: ['cm', 'Polygon']\n",
      "`%matplotlib` prevents importing * from pylab and numpy\n",
      "  \"\\n`%matplotlib` prevents importing * from pylab and numpy\"\n"
     ]
    }
   ],
   "source": [
    "%pylab inline\n",
    "\n",
    "import branca.colormap as cm\n",
    "\n",
    "from h3 import h3\n",
    "from shapely.geometry import Point, Polygon\n",
    "from geopy.distance import distance"
   ]
  },
  {
   "cell_type": "markdown",
   "metadata": {},
   "source": [
    "## Location to H3 and vice versa"
   ]
  },
  {
   "cell_type": "code",
   "execution_count": 368,
   "metadata": {},
   "outputs": [
    {
     "name": "stdout",
     "output_type": "stream",
     "text": [
      "강남 원래 좌표  : [37.508811, 127.040978]\n",
      "강남 H3 중심좌표: [37.468877275742344, 127.06257021363524]\n",
      "강남 H3       : 8630e1ca7ffffff\n"
     ]
    }
   ],
   "source": [
    "gangnam = [37.508811, 127.040978]\n",
    "hongdae = [37.557435, 126.925808]\n",
    "\n",
    "gangnam_h3 = h3.geo_to_h3(gangnam[0], gangnam[1], res=5)\n",
    "loc = h3.h3_to_geo(gangnam_h3)\n",
    "\n",
    "print('강남 원래 좌표  :', gangnam)\n",
    "print('강남 H3 중심좌표:', loc)\n",
    "print('강남 H3       :', h3_loc)"
   ]
  },
  {
   "cell_type": "code",
   "execution_count": 371,
   "metadata": {},
   "outputs": [
    {
     "data": {
      "text/html": [
       "<div>\n",
       "<style scoped>\n",
       "    .dataframe tbody tr th:only-of-type {\n",
       "        vertical-align: middle;\n",
       "    }\n",
       "\n",
       "    .dataframe tbody tr th {\n",
       "        vertical-align: top;\n",
       "    }\n",
       "\n",
       "    .dataframe thead th {\n",
       "        text-align: right;\n",
       "    }\n",
       "</style>\n",
       "<table border=\"1\" class=\"dataframe\">\n",
       "  <thead>\n",
       "    <tr style=\"text-align: right;\">\n",
       "      <th></th>\n",
       "      <th>h3</th>\n",
       "      <th>geometry</th>\n",
       "    </tr>\n",
       "  </thead>\n",
       "  <tbody>\n",
       "    <tr>\n",
       "      <th>0</th>\n",
       "      <td>8530e1cbfffffff</td>\n",
       "      <td>POLYGON ((127.147336245909 37.45816646841992, ...</td>\n",
       "    </tr>\n",
       "  </tbody>\n",
       "</table>\n",
       "</div>"
      ],
      "text/plain": [
       "                h3                                           geometry\n",
       "0  8530e1cbfffffff  POLYGON ((127.147336245909 37.45816646841992, ..."
      ]
     },
     "metadata": {},
     "output_type": "display_data"
    },
    {
     "data": {
      "text/html": [
       "<div style=\"width:100%;\"><div style=\"position:relative;width:100%;height:0;padding-bottom:60%;\"><iframe src=\"data:text/html;charset=utf-8;base64,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\" style=\"position:absolute;width:100%;height:100%;left:0;top:0;border:none !important;\" allowfullscreen webkitallowfullscreen mozallowfullscreen></iframe></div></div>"
      ],
      "text/plain": [
       "<folium.folium.Map at 0x7f00fd0ad400>"
      ]
     },
     "execution_count": 371,
     "metadata": {},
     "output_type": "execute_result"
    }
   ],
   "source": [
    "def to_polygon(l):\n",
    "    return Polygon(h3.h3_to_geo_boundary(l, geo_json=True))\n",
    "    \n",
    "df = gpd.GeoDataFrame({'h3': [gangnam_h3]})\n",
    "df['geometry'] = df['h3'].apply(to_polygon)\n",
    "df.crs = {'init': 'epsg:4326'}\n",
    "display(df)\n",
    "\n",
    "m = folium.Map(gangnam, zoom_start=12)\n",
    "folium.GeoJson(df).add_to(m)\n",
    "m"
   ]
  },
  {
   "cell_type": "markdown",
   "metadata": {},
   "source": [
    "## Grid Distance (H3 사이의 거리 구하기)\n",
    "\n",
    "h3.h3_distance 함수를 사용하면 됩니다. <br>\n",
    "이때 나오는 수치는 두 H3 사이의 몇개의 grid가 있는지를 나타냅니다. <br>\n",
    "(즉 미터나, 킬러미터같은 단위가 아닙니다.)"
   ]
  },
  {
   "cell_type": "code",
   "execution_count": 258,
   "metadata": {},
   "outputs": [
    {
     "name": "stdout",
     "output_type": "stream",
     "text": [
      "gangnam_h3: 8a30e1ca390ffff\n",
      "hongdae_h3: 8a30e1d84797fff\n",
      "distance  : 126\n"
     ]
    }
   ],
   "source": [
    "gangnam = [37.508811, 127.040978]\n",
    "hongdae = [37.557435, 126.925808]\n",
    "\n",
    "gangnam_h3 = h3.geo_to_h3(gangnam[0], gangnam[1], res=10)\n",
    "hongdae_h3 = h3.geo_to_h3(hongdae[0], hongdae[1], res=10)\n",
    "dist = h3.h3_distance(gangnam_h3, hongdae_h3)\n",
    "\n",
    "print('gangnam_h3:', gangnam_h3)\n",
    "print('hongdae_h3:', hongdae_h3)\n",
    "print('distance  :', dist)"
   ]
  },
  {
   "cell_type": "markdown",
   "metadata": {},
   "source": [
    "만약 서로 resolution이 다를시 -1을 리턴시킵니다."
   ]
  },
  {
   "cell_type": "code",
   "execution_count": 259,
   "metadata": {},
   "outputs": [
    {
     "name": "stdout",
     "output_type": "stream",
     "text": [
      "gangnam_h3: 8830e1ca39fffff\n",
      "hongdae_h3: 8730e1d84ffffff\n",
      "distance  : -1\n"
     ]
    }
   ],
   "source": [
    "gangnam_h3 = h3.geo_to_h3(gangnam[0], gangnam[1], res=8)\n",
    "hongdae_h3 = h3.geo_to_h3(hongdae[0], hongdae[1], res=7)\n",
    "dist = h3.h3_distance(gangnam_h3, hongdae_h3)\n",
    "\n",
    "print('gangnam_h3:', gangnam_h3)\n",
    "print('hongdae_h3:', hongdae_h3)\n",
    "print('distance  :', dist)"
   ]
  },
  {
   "cell_type": "markdown",
   "metadata": {},
   "source": [
    "## Resolution 알아내기 "
   ]
  },
  {
   "cell_type": "code",
   "execution_count": 261,
   "metadata": {},
   "outputs": [
    {
     "name": "stdout",
     "output_type": "stream",
     "text": [
      "강남 resolution: 8\n"
     ]
    }
   ],
   "source": [
    "gangnam = [37.508811, 127.040978]\n",
    "hongdae = [37.557435, 126.925808]\n",
    "gangnam_h3 = h3.geo_to_h3(gangnam[0], gangnam[1], res=8)\n",
    "\n",
    "res = h3.h3_get_resolution(gangnam_h3)\n",
    "print('강남 resolution:', res)"
   ]
  },
  {
   "cell_type": "markdown",
   "metadata": {},
   "source": [
    "## Shapely 사용"
   ]
  },
  {
   "cell_type": "code",
   "execution_count": 264,
   "metadata": {},
   "outputs": [
    {
     "data": {
      "text/plain": [
       "[[37.45816646841992, 127.14733624590899],\n",
       " [37.5327646461389, 127.11077458956521],\n",
       " [37.54339024507392, 127.0259643444913],\n",
       " [37.47951133913293, 126.97790913519783],\n",
       " [37.405041009311994, 127.01450132231741],\n",
       " [37.39432184126186, 127.09911844988092]]"
      ]
     },
     "metadata": {},
     "output_type": "display_data"
    },
    {
     "data": {
      "image/svg+xml": [
       "<svg xmlns=\"http://www.w3.org/2000/svg\" xmlns:xlink=\"http://www.w3.org/1999/xlink\" width=\"100.0\" height=\"100.0\" viewBox=\"37.387544756833414 126.97113205076938 0.1626225726689583 0.18298127956805388\" preserveAspectRatio=\"xMinYMin meet\"><g transform=\"matrix(1,0,0,-1,0,254.12524538110682)\"><path fill-rule=\"evenodd\" fill=\"#66cc99\" stroke=\"#555555\" stroke-width=\"0.0036596255913610774\" opacity=\"0.6\" d=\"M 37.45816646841992,127.14733624590899 L 37.5327646461389,127.11077458956521 L 37.54339024507392,127.0259643444913 L 37.47951133913293,126.97790913519783 L 37.405041009311994,127.01450132231741 L 37.39432184126186,127.09911844988092 L 37.45816646841992,127.14733624590899 z\" /></g></svg>"
      ],
      "text/plain": [
       "<shapely.geometry.polygon.Polygon at 0x7f00fd1d4780>"
      ]
     },
     "execution_count": 264,
     "metadata": {},
     "output_type": "execute_result"
    }
   ],
   "source": [
    "locations = h3.h3_to_geo_boundary(h3_loc)\n",
    "display(locations)\n",
    "Polygon(locations)"
   ]
  },
  {
   "cell_type": "markdown",
   "metadata": {},
   "source": [
    "## Neighbors인지 체크\n",
    "\n",
    "h3_indexes_are_neighbors 함수를 통해서 neighbor인지 아닌지를 판단 할 수 있습니다."
   ]
  },
  {
   "cell_type": "code",
   "execution_count": 304,
   "metadata": {},
   "outputs": [
    {
     "name": "stdout",
     "output_type": "stream",
     "text": [
      "강남 - 홍대: False\n"
     ]
    }
   ],
   "source": [
    "gangnam = [37.508811, 127.040978]\n",
    "hongdae = [37.557435, 126.925808]\n",
    "gangnam_h3 = h3.geo_to_h3(gangnam[0], gangnam[1], res=10)\n",
    "hongdae_h3 = h3.geo_to_h3(hongdae[0], hongdae[1], res=10)\n",
    "is_neighbor = h3.h3_indexes_are_neighbors(gangnam_h3, hongdae_h3)\n",
    "\n",
    "print('강남 - 홍대:', is_neighbor)"
   ]
  },
  {
   "cell_type": "markdown",
   "metadata": {},
   "source": [
    "## Neighbors 꺼내기\n",
    "neighbors 를 꺼내기 위해서는 k_ring 함수를 사용합니다."
   ]
  },
  {
   "cell_type": "code",
   "execution_count": 399,
   "metadata": {},
   "outputs": [
    {
     "data": {
      "text/plain": [
       "{'8730e1c12ffffff',\n",
       " '8730e1c80ffffff',\n",
       " '8730e1c81ffffff',\n",
       " '8730e1c84ffffff',\n",
       " '8730e1c85ffffff',\n",
       " '8730e1c86ffffff',\n",
       " '8730e1ca0ffffff',\n",
       " '8730e1ca1ffffff',\n",
       " '8730e1ca2ffffff',\n",
       " '8730e1ca3ffffff',\n",
       " '8730e1ca4ffffff',\n",
       " '8730e1ca5ffffff',\n",
       " '8730e1ca6ffffff',\n",
       " '8730e1ca8ffffff',\n",
       " '8730e1caaffffff',\n",
       " '8730e1cacffffff',\n",
       " '8730e1caeffffff',\n",
       " '8730e1cb1ffffff',\n",
       " '8730e1cb5ffffff'}"
      ]
     },
     "metadata": {},
     "output_type": "display_data"
    },
    {
     "name": "stdout",
     "output_type": "stream",
     "text": [
      "강남 H3   : 8730e1ca3ffffff\n",
      "랜덤 H3   : 8730e1c85ffffff\n",
      "강남 - 랜덤: True\n"
     ]
    }
   ],
   "source": [
    "gangnam = [37.508811, 127.040978]\n",
    "gangnam_h3 = h3.geo_to_h3(gangnam[0], gangnam[1], res=7)\n",
    "neighbors = h3.k_ring(gangnam_h3, ring_size=2)\n",
    "display(neighbors)\n",
    "\n",
    "rand_h3 = np.random.choice(list(neighbors))\n",
    "is_neighbor = h3.h3_indexes_are_neighbors(gangnam_h3, rand_h3)\n",
    "\n",
    "print('강남 H3   :', gangnam_h3)\n",
    "print('랜덤 H3   :', rand_h3)\n",
    "print('강남 - 랜덤:', is_neighbor)"
   ]
  },
  {
   "cell_type": "code",
   "execution_count": 402,
   "metadata": {},
   "outputs": [
    {
     "data": {
      "text/html": [
       "<div>\n",
       "<style scoped>\n",
       "    .dataframe tbody tr th:only-of-type {\n",
       "        vertical-align: middle;\n",
       "    }\n",
       "\n",
       "    .dataframe tbody tr th {\n",
       "        vertical-align: top;\n",
       "    }\n",
       "\n",
       "    .dataframe thead th {\n",
       "        text-align: right;\n",
       "    }\n",
       "</style>\n",
       "<table border=\"1\" class=\"dataframe\">\n",
       "  <thead>\n",
       "    <tr style=\"text-align: right;\">\n",
       "      <th></th>\n",
       "      <th>h3</th>\n",
       "      <th>geometry</th>\n",
       "    </tr>\n",
       "  </thead>\n",
       "  <tbody>\n",
       "    <tr>\n",
       "      <th>0</th>\n",
       "      <td>8730e1c81ffffff</td>\n",
       "      <td>POLYGON ((127.0936624957004 37.47494887237965,...</td>\n",
       "    </tr>\n",
       "    <tr>\n",
       "      <th>1</th>\n",
       "      <td>8730e1ca0ffffff</td>\n",
       "      <td>POLYGON ((127.0416596380399 37.51146133502923,...</td>\n",
       "    </tr>\n",
       "    <tr>\n",
       "      <th>2</th>\n",
       "      <td>8730e1ca6ffffff</td>\n",
       "      <td>POLYGON ((127.0226840588836 37.50385231791471,...</td>\n",
       "    </tr>\n",
       "    <tr>\n",
       "      <th>3</th>\n",
       "      <td>8730e1cb1ffffff</td>\n",
       "      <td>POLYGON ((127.0383706168461 37.47192339995248,...</td>\n",
       "    </tr>\n",
       "    <tr>\n",
       "      <th>4</th>\n",
       "      <td>8730e1ca8ffffff</td>\n",
       "      <td>POLYGON ((127.0969880563556 37.51450591115271,...</td>\n",
       "    </tr>\n",
       "  </tbody>\n",
       "</table>\n",
       "</div>"
      ],
      "text/plain": [
       "                h3                                           geometry\n",
       "0  8730e1c81ffffff  POLYGON ((127.0936624957004 37.47494887237965,...\n",
       "1  8730e1ca0ffffff  POLYGON ((127.0416596380399 37.51146133502923,...\n",
       "2  8730e1ca6ffffff  POLYGON ((127.0226840588836 37.50385231791471,...\n",
       "3  8730e1cb1ffffff  POLYGON ((127.0383706168461 37.47192339995248,...\n",
       "4  8730e1ca8ffffff  POLYGON ((127.0969880563556 37.51450591115271,..."
      ]
     },
     "metadata": {},
     "output_type": "display_data"
    },
    {
     "data": {
      "text/html": [
       "<div style=\"width:100%;\"><div style=\"position:relative;width:100%;height:0;padding-bottom:60%;\"><iframe src=\"data:text/html;charset=utf-8;base64,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\" style=\"position:absolute;width:100%;height:100%;left:0;top:0;border:none !important;\" allowfullscreen webkitallowfullscreen mozallowfullscreen></iframe></div></div>"
      ],
      "text/plain": [
       "<folium.folium.Map at 0x7f00fd0ba208>"
      ]
     },
     "execution_count": 402,
     "metadata": {},
     "output_type": "execute_result"
    }
   ],
   "source": [
    "def to_polygon(l):\n",
    "    return Polygon(h3.h3_to_geo_boundary(l, geo_json=True))\n",
    "    \n",
    "df = gpd.GeoDataFrame({'h3': list(neighbors)})\n",
    "df['geometry'] = df['h3'].apply(to_polygon)\n",
    "df.crs = {'init': 'epsg:4326'}\n",
    "display(df.head())\n",
    "\n",
    "m = folium.Map(gangnam, zoom_start=12)\n",
    "folium.GeoJson(df).add_to(m)\n",
    "\n",
    "for _h3 in neighbors:\n",
    "    loc = h3.h3_to_geo(_h3)\n",
    "    folium.Marker(loc).add_to(m)\n",
    "m"
   ]
  },
  {
   "cell_type": "markdown",
   "metadata": {},
   "source": [
    "## Validation of H3"
   ]
  },
  {
   "cell_type": "code",
   "execution_count": 322,
   "metadata": {},
   "outputs": [
    {
     "name": "stdout",
     "output_type": "stream",
     "text": [
      "강남    (8a30e1ca390ffff): True\n",
      "이상한데 (8a30e1ca390afff): False\n"
     ]
    }
   ],
   "source": [
    "gangnam = [37.508811, 127.040978]\n",
    "gangnam_h3 = h3.geo_to_h3(gangnam[0], gangnam[1], res=10)\n",
    "\n",
    "print(f'강남    ({gangnam_h3}):', h3.h3_is_valid(gangnam_h3))\n",
    "print('이상한데 (8a30e1ca390afff):', h3.h3_is_valid('8a30e1ca390afff'))"
   ]
  },
  {
   "cell_type": "markdown",
   "metadata": {},
   "source": [
    "## Children 가져오기"
   ]
  },
  {
   "cell_type": "code",
   "execution_count": 434,
   "metadata": {
    "scrolled": true
   },
   "outputs": [
    {
     "name": "stdout",
     "output_type": "stream",
     "text": [
      "{'8b30e1ca3911fff', '8b30e1ca391bfff', '8b30e1ca3905fff', '8b30e1ca3906fff', '8b30e1ca3912fff', '8b30e1ca390afff', '8b30e1ca3929fff', '8b30e1ca3936fff', '8b30e1ca390dfff', '8b30e1ca3928fff', '8b30e1ca3918fff', '8b30e1ca3920fff', '8b30e1ca392bfff', '8b30e1ca391afff', '8b30e1ca3924fff', '8b30e1ca3901fff', '8b30e1ca3900fff', '8b30e1ca391dfff', '8b30e1ca392efff', '8b30e1ca3904fff', '8b30e1ca390bfff', '8b30e1ca392cfff', '8b30e1ca392afff', '8b30e1ca3935fff', '8b30e1ca390cfff', '8b30e1ca3909fff', '8b30e1ca3915fff', '8b30e1ca3913fff', '8b30e1ca3903fff', '8b30e1ca3933fff', '8b30e1ca3910fff', '8b30e1ca3914fff', '8b30e1ca3916fff', '8b30e1ca3922fff', '8b30e1ca3902fff', '8b30e1ca3923fff', '8b30e1ca392dfff', '8b30e1ca3919fff', '8b30e1ca390efff', '8b30e1ca3932fff', '8b30e1ca3908fff', '8b30e1ca3921fff', '8b30e1ca391cfff', '8b30e1ca3925fff', '8b30e1ca3934fff', '8b30e1ca3926fff', '8b30e1ca3931fff', '8b30e1ca3930fff', '8b30e1ca391efff'}\n"
     ]
    }
   ],
   "source": [
    "gangnam = [37.508811, 127.040978]\n",
    "gangnam_h3 = h3.geo_to_h3(gangnam[0], gangnam[1], res=9)\n",
    "\n",
    "children_h3 = h3.h3_to_children(gangnam_h3, 11)\n",
    "print(children_h3)"
   ]
  },
  {
   "cell_type": "code",
   "execution_count": 435,
   "metadata": {},
   "outputs": [
    {
     "data": {
      "text/html": [
       "<div>\n",
       "<style scoped>\n",
       "    .dataframe tbody tr th:only-of-type {\n",
       "        vertical-align: middle;\n",
       "    }\n",
       "\n",
       "    .dataframe tbody tr th {\n",
       "        vertical-align: top;\n",
       "    }\n",
       "\n",
       "    .dataframe thead th {\n",
       "        text-align: right;\n",
       "    }\n",
       "</style>\n",
       "<table border=\"1\" class=\"dataframe\">\n",
       "  <thead>\n",
       "    <tr style=\"text-align: right;\">\n",
       "      <th></th>\n",
       "      <th>h3</th>\n",
       "      <th>geometry</th>\n",
       "    </tr>\n",
       "  </thead>\n",
       "  <tbody>\n",
       "    <tr>\n",
       "      <th>0</th>\n",
       "      <td>8b30e1ca3911fff</td>\n",
       "      <td>POLYGON ((127.039875206916 37.50801585012684, ...</td>\n",
       "    </tr>\n",
       "    <tr>\n",
       "      <th>1</th>\n",
       "      <td>8b30e1ca391bfff</td>\n",
       "      <td>POLYGON ((127.0409700704014 37.50767471125885,...</td>\n",
       "    </tr>\n",
       "    <tr>\n",
       "      <th>2</th>\n",
       "      <td>8b30e1ca3905fff</td>\n",
       "      <td>POLYGON ((127.0399759151777 37.50922627990544,...</td>\n",
       "    </tr>\n",
       "    <tr>\n",
       "      <th>3</th>\n",
       "      <td>8b30e1ca3906fff</td>\n",
       "      <td>POLYGON ((127.0395550103837 37.50866752588693,...</td>\n",
       "    </tr>\n",
       "    <tr>\n",
       "      <th>4</th>\n",
       "      <td>8b30e1ca3912fff</td>\n",
       "      <td>POLYGON ((127.0394543114467 37.50745710327052,...</td>\n",
       "    </tr>\n",
       "  </tbody>\n",
       "</table>\n",
       "</div>"
      ],
      "text/plain": [
       "                h3                                           geometry\n",
       "0  8b30e1ca3911fff  POLYGON ((127.039875206916 37.50801585012684, ...\n",
       "1  8b30e1ca391bfff  POLYGON ((127.0409700704014 37.50767471125885,...\n",
       "2  8b30e1ca3905fff  POLYGON ((127.0399759151777 37.50922627990544,...\n",
       "3  8b30e1ca3906fff  POLYGON ((127.0395550103837 37.50866752588693,...\n",
       "4  8b30e1ca3912fff  POLYGON ((127.0394543114467 37.50745710327052,..."
      ]
     },
     "metadata": {},
     "output_type": "display_data"
    },
    {
     "data": {
      "text/html": [
       "<div style=\"width:100%;\"><div style=\"position:relative;width:100%;height:0;padding-bottom:60%;\"><iframe src=\"data:text/html;charset=utf-8;base64,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\" style=\"position:absolute;width:100%;height:100%;left:0;top:0;border:none !important;\" allowfullscreen webkitallowfullscreen mozallowfullscreen></iframe></div></div>"
      ],
      "text/plain": [
       "<folium.folium.Map at 0x7f018f34bbe0>"
      ]
     },
     "execution_count": 435,
     "metadata": {},
     "output_type": "execute_result"
    }
   ],
   "source": [
    "def to_polygon(l):\n",
    "    return Polygon(h3.h3_to_geo_boundary(l, geo_json=True))\n",
    "\n",
    "\n",
    "children_h3 = children_h3 | set([gangnam_h3])\n",
    "df = gpd.GeoDataFrame({'h3': list(children_h3)})\n",
    "df['geometry'] = df['h3'].apply(to_polygon)\n",
    "df.crs = {'init': 'epsg:4326'}\n",
    "display(df.head())\n",
    "\n",
    "m = folium.Map(gangnam, zoom_start=17)\n",
    "folium.GeoJson(df).add_to(m)\n",
    "\n",
    "for _h3 in children_h3:\n",
    "    loc = h3.h3_to_geo(_h3)\n",
    "    folium.Marker(loc).add_to(m)\n",
    "m"
   ]
  },
  {
   "cell_type": "markdown",
   "metadata": {},
   "source": [
    "## Parent 가져오기"
   ]
  },
  {
   "cell_type": "code",
   "execution_count": 439,
   "metadata": {},
   "outputs": [
    {
     "data": {
      "text/plain": [
       "'8930e1ca393ffff'"
      ]
     },
     "metadata": {},
     "output_type": "display_data"
    }
   ],
   "source": [
    "gangnam = [37.508811, 127.040978]\n",
    "gangnam_h3 = h3.geo_to_h3(gangnam[0], gangnam[1], res=10)\n",
    "\n",
    "parent_h3 = h3.h3_to_parent(gangnam_h3, 9)\n",
    "display(parent_h3)"
   ]
  },
  {
   "cell_type": "code",
   "execution_count": 444,
   "metadata": {},
   "outputs": [
    {
     "data": {
      "text/html": [
       "<div>\n",
       "<style scoped>\n",
       "    .dataframe tbody tr th:only-of-type {\n",
       "        vertical-align: middle;\n",
       "    }\n",
       "\n",
       "    .dataframe tbody tr th {\n",
       "        vertical-align: top;\n",
       "    }\n",
       "\n",
       "    .dataframe thead th {\n",
       "        text-align: right;\n",
       "    }\n",
       "</style>\n",
       "<table border=\"1\" class=\"dataframe\">\n",
       "  <thead>\n",
       "    <tr style=\"text-align: right;\">\n",
       "      <th></th>\n",
       "      <th>h3</th>\n",
       "      <th>geometry</th>\n",
       "    </tr>\n",
       "  </thead>\n",
       "  <tbody>\n",
       "    <tr>\n",
       "      <th>0</th>\n",
       "      <td>8a30e1ca390ffff</td>\n",
       "      <td>POLYGON ((127.0414245710759 37.5086369431698, ...</td>\n",
       "    </tr>\n",
       "    <tr>\n",
       "      <th>1</th>\n",
       "      <td>8930e1ca393ffff</td>\n",
       "      <td>POLYGON ((127.0414245710759 37.5086369431698, ...</td>\n",
       "    </tr>\n",
       "  </tbody>\n",
       "</table>\n",
       "</div>"
      ],
      "text/plain": [
       "                h3                                           geometry\n",
       "0  8a30e1ca390ffff  POLYGON ((127.0414245710759 37.5086369431698, ...\n",
       "1  8930e1ca393ffff  POLYGON ((127.0414245710759 37.5086369431698, ..."
      ]
     },
     "metadata": {},
     "output_type": "display_data"
    },
    {
     "data": {
      "text/html": [
       "<div style=\"width:100%;\"><div style=\"position:relative;width:100%;height:0;padding-bottom:60%;\"><iframe src=\"data:text/html;charset=utf-8;base64,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\" style=\"position:absolute;width:100%;height:100%;left:0;top:0;border:none !important;\" allowfullscreen webkitallowfullscreen mozallowfullscreen></iframe></div></div>"
      ],
      "text/plain": [
       "<folium.folium.Map at 0x7f01901cbd30>"
      ]
     },
     "execution_count": 444,
     "metadata": {},
     "output_type": "execute_result"
    }
   ],
   "source": [
    "def to_polygon(l):\n",
    "    return Polygon(h3.h3_to_geo_boundary(l, geo_json=True))\n",
    "\n",
    "\n",
    "group_h3 = set([parent_h3]) | set([gangnam_h3])\n",
    "df = gpd.GeoDataFrame({'h3': list(group_h3)})\n",
    "df['geometry'] = df['h3'].apply(to_polygon)\n",
    "df.crs = {'init': 'epsg:4326'}\n",
    "display(df.head())\n",
    "\n",
    "m = folium.Map(gangnam, zoom_start=17)\n",
    "folium.GeoJson(df).add_to(m)\n",
    "\n",
    "for _h3 in group_h3:\n",
    "    loc = h3.h3_to_geo(_h3)\n",
    "    folium.Marker(loc).add_to(m)\n",
    "m"
   ]
  },
  {
   "cell_type": "markdown",
   "metadata": {},
   "source": [
    "## Boundary 좌표 가져오기"
   ]
  },
  {
   "cell_type": "code",
   "execution_count": 337,
   "metadata": {},
   "outputs": [
    {
     "data": {
      "text/plain": [
       "[[37.508636943169805, 127.04142457107591],\n",
       " [37.509257655295244, 127.04135141952166],\n",
       " [37.50953683612771, 127.040750604166],\n",
       " [37.50919530577431, 127.04022295221114],\n",
       " [37.508574600888544, 127.04029611275315],\n",
       " [37.50829541911647, 127.04089691626244]]"
      ]
     },
     "execution_count": 337,
     "metadata": {},
     "output_type": "execute_result"
    }
   ],
   "source": [
    "gangnam = [37.508811, 127.040978]\n",
    "gangnam_h3 = h3.geo_to_h3(gangnam[0], gangnam[1], res=10)\n",
    "\n",
    "h3.h3_to_geo_boundary(gangnam_h3)"
   ]
  },
  {
   "cell_type": "markdown",
   "metadata": {},
   "source": [
    "## Custom Style Function"
   ]
  },
  {
   "cell_type": "code",
   "execution_count": 448,
   "metadata": {},
   "outputs": [
    {
     "data": {
      "text/plain": [
       "{'8730e1c12ffffff',\n",
       " '8730e1c80ffffff',\n",
       " '8730e1c81ffffff',\n",
       " '8730e1c84ffffff',\n",
       " '8730e1c85ffffff',\n",
       " '8730e1c86ffffff',\n",
       " '8730e1ca0ffffff',\n",
       " '8730e1ca1ffffff',\n",
       " '8730e1ca2ffffff',\n",
       " '8730e1ca3ffffff',\n",
       " '8730e1ca4ffffff',\n",
       " '8730e1ca5ffffff',\n",
       " '8730e1ca6ffffff',\n",
       " '8730e1ca8ffffff',\n",
       " '8730e1caaffffff',\n",
       " '8730e1cacffffff',\n",
       " '8730e1caeffffff',\n",
       " '8730e1cb1ffffff',\n",
       " '8730e1cb5ffffff'}"
      ]
     },
     "metadata": {},
     "output_type": "display_data"
    }
   ],
   "source": [
    "gangnam = [37.508811, 127.040978]\n",
    "gangnam_h3 = h3.geo_to_h3(gangnam[0], gangnam[1], res=7)\n",
    "neighbors = h3.k_ring(gangnam_h3, ring_size=2)\n",
    "display(neighbors)\n"
   ]
  },
  {
   "cell_type": "code",
   "execution_count": 461,
   "metadata": {},
   "outputs": [
    {
     "data": {
      "text/html": [
       "<div>\n",
       "<style scoped>\n",
       "    .dataframe tbody tr th:only-of-type {\n",
       "        vertical-align: middle;\n",
       "    }\n",
       "\n",
       "    .dataframe tbody tr th {\n",
       "        vertical-align: top;\n",
       "    }\n",
       "\n",
       "    .dataframe thead th {\n",
       "        text-align: right;\n",
       "    }\n",
       "</style>\n",
       "<table border=\"1\" class=\"dataframe\">\n",
       "  <thead>\n",
       "    <tr style=\"text-align: right;\">\n",
       "      <th></th>\n",
       "      <th>h3</th>\n",
       "      <th>value</th>\n",
       "      <th>geometry</th>\n",
       "    </tr>\n",
       "  </thead>\n",
       "  <tbody>\n",
       "    <tr>\n",
       "      <th>0</th>\n",
       "      <td>8730e1c81ffffff</td>\n",
       "      <td>8</td>\n",
       "      <td>POLYGON ((127.0936624957004 37.47494887237965,...</td>\n",
       "    </tr>\n",
       "    <tr>\n",
       "      <th>1</th>\n",
       "      <td>8730e1ca0ffffff</td>\n",
       "      <td>3</td>\n",
       "      <td>POLYGON ((127.0416596380399 37.51146133502923,...</td>\n",
       "    </tr>\n",
       "    <tr>\n",
       "      <th>2</th>\n",
       "      <td>8730e1ca6ffffff</td>\n",
       "      <td>14</td>\n",
       "      <td>POLYGON ((127.0226840588836 37.50385231791471,...</td>\n",
       "    </tr>\n",
       "    <tr>\n",
       "      <th>3</th>\n",
       "      <td>8730e1cb1ffffff</td>\n",
       "      <td>0</td>\n",
       "      <td>POLYGON ((127.0383706168461 37.47192339995248,...</td>\n",
       "    </tr>\n",
       "    <tr>\n",
       "      <th>4</th>\n",
       "      <td>8730e1ca8ffffff</td>\n",
       "      <td>11</td>\n",
       "      <td>POLYGON ((127.0969880563556 37.51450591115271,...</td>\n",
       "    </tr>\n",
       "  </tbody>\n",
       "</table>\n",
       "</div>"
      ],
      "text/plain": [
       "                h3  value                                           geometry\n",
       "0  8730e1c81ffffff      8  POLYGON ((127.0936624957004 37.47494887237965,...\n",
       "1  8730e1ca0ffffff      3  POLYGON ((127.0416596380399 37.51146133502923,...\n",
       "2  8730e1ca6ffffff     14  POLYGON ((127.0226840588836 37.50385231791471,...\n",
       "3  8730e1cb1ffffff      0  POLYGON ((127.0383706168461 37.47192339995248,...\n",
       "4  8730e1ca8ffffff     11  POLYGON ((127.0969880563556 37.51450591115271,..."
      ]
     },
     "metadata": {},
     "output_type": "display_data"
    },
    {
     "data": {
      "text/html": [
       "<div style=\"width:100%;\"><div style=\"position:relative;width:100%;height:0;padding-bottom:60%;\"><iframe src=\"data:text/html;charset=utf-8;base64,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\" style=\"position:absolute;width:100%;height:100%;left:0;top:0;border:none !important;\" allowfullscreen webkitallowfullscreen mozallowfullscreen></iframe></div></div>"
      ],
      "text/plain": [
       "<folium.folium.Map at 0x7f01980ff4e0>"
      ]
     },
     "execution_count": 461,
     "metadata": {},
     "output_type": "execute_result"
    }
   ],
   "source": [
    "def to_polygon(l):\n",
    "    return Polygon(h3.h3_to_geo_boundary(l, geo_json=True))\n",
    "\n",
    "def my_style_function(feature):\n",
    "    label = feature['properties']['value']\n",
    "    color = cm.step.Set1_09.scale(0, n)(label)\n",
    "    \n",
    "    return dict(fillColor=color, \n",
    "                color='black', \n",
    "                weight=1.2, \n",
    "                fillOpacity=0.7)\n",
    "\n",
    "\n",
    "n = len(neighbors)\n",
    "df = gpd.GeoDataFrame({'h3': list(neighbors), \n",
    "                       'value': np.random.randint(0, n, size=n)})\n",
    "df['geometry'] = df['h3'].apply(to_polygon)\n",
    "df.crs = {'init': 'epsg:4326'}\n",
    "display(df.head())\n",
    "\n",
    "m = folium.Map(gangnam, zoom_start=12)\n",
    "folium.GeoJson(df, style_function=my_style_function).add_to(m)\n",
    "\n",
    "for _h3 in neighbors:\n",
    "    loc = h3.h3_to_geo(_h3)\n",
    "    folium.Marker(loc).add_to(m)\n",
    "m"
   ]
  }
 ],
 "metadata": {
  "kernelspec": {
   "display_name": "Python 3",
   "language": "python",
   "name": "python3"
  },
  "language_info": {
   "codemirror_mode": {
    "name": "ipython",
    "version": 3
   },
   "file_extension": ".py",
   "mimetype": "text/x-python",
   "name": "python",
   "nbconvert_exporter": "python",
   "pygments_lexer": "ipython3",
   "version": "3.6.7"
  },
  "toc": {
   "base_numbering": 1,
   "nav_menu": {},
   "number_sections": true,
   "sideBar": true,
   "skip_h1_title": false,
   "title_cell": "Table of Contents",
   "title_sidebar": "Contents",
   "toc_cell": false,
   "toc_position": {},
   "toc_section_display": true,
   "toc_window_display": false
  }
 },
 "nbformat": 4,
 "nbformat_minor": 2
}
